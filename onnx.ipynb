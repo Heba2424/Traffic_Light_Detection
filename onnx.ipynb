{
  "nbformat": 4,
  "nbformat_minor": 0,
  "metadata": {
    "colab": {
      "provenance": []
    },
    "kernelspec": {
      "name": "python3",
      "display_name": "Python 3"
    },
    "language_info": {
      "name": "python"
    }
  },
  "cells": [
    {
      "cell_type": "code",
      "execution_count": null,
      "metadata": {
        "id": "VAKaSb5x1K5I"
      },
      "outputs": [],
      "source": [
        "!pip install ultralytics\n"
      ]
    },
    {
      "cell_type": "code",
      "source": [
        "from ultralytics import YOLO\n",
        "\n",
        "# Load the YOLOv8 model\n",
        "model = YOLO(\"/content/drive/MyDrive/yolo_traffic_project/best.pt\")"
      ],
      "metadata": {
        "id": "NXtXsIOB1Nlm"
      },
      "execution_count": null,
      "outputs": []
    },
    {
      "cell_type": "code",
      "source": [
        "model.export(format=\"onnx\", imgsz=(640, 640),dynamic=True)\n"
      ],
      "metadata": {
        "id": "UqUiWqax1P4f"
      },
      "execution_count": null,
      "outputs": []
    }
  ]
}